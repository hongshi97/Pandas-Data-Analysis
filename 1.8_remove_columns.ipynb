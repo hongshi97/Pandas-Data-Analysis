{
 "cells": [
  {
   "cell_type": "code",
   "execution_count": 1,
   "metadata": {},
   "outputs": [
    {
     "name": "stdout",
     "output_type": "stream",
     "text": [
      "{'수학': [90, 80, 70], '영어': [98, 80, 95], '음악': [85, 95, 100], '체육': [100, 90, 90]}\n",
      "\n",
      "\n",
      "    수학  영어   음악   체육\n",
      "서준  90  98   85  100\n",
      "우현  80  80   95   90\n",
      "인아  70  95  100   90\n"
     ]
    }
   ],
   "source": [
    "import pandas as pd\n",
    "# DataFrame() 함수로 데이터프레임 변환. 변수 df에 저장\n",
    "exam_data = {'수학':[90,80,70], '영어':[98,80,95],\n",
    "            '음악':[85,95,100], '체육':[100,90,90]}\n",
    "\n",
    "print(exam_data)\n",
    "\n",
    "df = pd.DataFrame(exam_data, index = ['서준','우현','인아'])\n",
    "print('\\n')\n",
    "print(df)"
   ]
  },
  {
   "cell_type": "code",
   "execution_count": 2,
   "metadata": {},
   "outputs": [
    {
     "name": "stdout",
     "output_type": "stream",
     "text": [
      "    영어   음악   체육\n",
      "서준  98   85  100\n",
      "우현  80   95   90\n",
      "인아  95  100   90\n"
     ]
    },
    {
     "name": "stderr",
     "output_type": "stream",
     "text": [
      "C:\\Users\\SeongHee\\Anaconda3\\lib\\site-packages\\pandas\\core\\frame.py:4163: SettingWithCopyWarning: \n",
      "A value is trying to be set on a copy of a slice from a DataFrame\n",
      "\n",
      "See the caveats in the documentation: https://pandas.pydata.org/pandas-docs/stable/user_guide/indexing.html#returning-a-view-versus-a-copy\n",
      "  return super().drop(\n"
     ]
    }
   ],
   "source": [
    "# 데이터프레임 df를 복제하여 변수 df4에 저장. df4의 1개 열 삭제\n",
    "df4= df[:]\n",
    "df4.drop('수학', axis = 1, inplace = True)\n",
    "print(df4)"
   ]
  },
  {
   "cell_type": "code",
   "execution_count": 3,
   "metadata": {},
   "outputs": [
    {
     "name": "stdout",
     "output_type": "stream",
     "text": [
      "    수학   체육\n",
      "서준  90  100\n",
      "우현  80   90\n",
      "인아  70   90\n"
     ]
    },
    {
     "name": "stderr",
     "output_type": "stream",
     "text": [
      "C:\\Users\\SeongHee\\Anaconda3\\lib\\site-packages\\pandas\\core\\frame.py:4163: SettingWithCopyWarning: \n",
      "A value is trying to be set on a copy of a slice from a DataFrame\n",
      "\n",
      "See the caveats in the documentation: https://pandas.pydata.org/pandas-docs/stable/user_guide/indexing.html#returning-a-view-versus-a-copy\n",
      "  return super().drop(\n"
     ]
    }
   ],
   "source": [
    "# 데이터프레임 df를 복제하여 df5에 저장. df5의 2개 열 삭제\n",
    "df5 = df[:]\n",
    "df5.drop(['영어','음악'], axis = 1, inplace=True)\n",
    "print(df5)"
   ]
  },
  {
   "cell_type": "code",
   "execution_count": null,
   "metadata": {},
   "outputs": [],
   "source": []
  }
 ],
 "metadata": {
  "kernelspec": {
   "display_name": "Python 3",
   "language": "python",
   "name": "python3"
  },
  "language_info": {
   "codemirror_mode": {
    "name": "ipython",
    "version": 3
   },
   "file_extension": ".py",
   "mimetype": "text/x-python",
   "name": "python",
   "nbconvert_exporter": "python",
   "pygments_lexer": "ipython3",
   "version": "3.8.5"
  }
 },
 "nbformat": 4,
 "nbformat_minor": 4
}
